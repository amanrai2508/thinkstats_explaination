{
  "nbformat": 4,
  "nbformat_minor": 0,
  "metadata": {
    "colab": {
      "name": "oops.ipynb",
      "provenance": [],
      "collapsed_sections": [],
      "authorship_tag": "ABX9TyMCbFd2uCuch+YGN0OJUS9P",
      "include_colab_link": true
    },
    "kernelspec": {
      "name": "python3",
      "display_name": "Python 3"
    }
  },
  "cells": [
    {
      "cell_type": "markdown",
      "metadata": {
        "id": "view-in-github",
        "colab_type": "text"
      },
      "source": [
        "<a href=\"https://colab.research.google.com/github/amanrai2508/thinkstats_explaination/blob/main/oops.ipynb\" target=\"_parent\"><img src=\"https://colab.research.google.com/assets/colab-badge.svg\" alt=\"Open In Colab\"/></a>"
      ]
    },
    {
      "cell_type": "markdown",
      "metadata": {
        "id": "5WO5wYwYCZkK"
      },
      "source": [
        "Suppose you are working at a bank that has many accounts. We can create a class named account that would be used to work with any account. For example, below I create an elementary toy class Account which stores data for a user — namely account_name and balance. It also provides us with two methods to deposit/withdraw money to/from the bank account"
      ]
    },
    {
      "cell_type": "code",
      "metadata": {
        "colab": {
          "base_uri": "https://localhost:8080/"
        },
        "id": "9E3MVQa38EV3",
        "outputId": "67e2c76d-b81e-4ca3-b56b-b7c3f92b645b"
      },
      "source": [
        "class Account:\r\n",
        "  def __init__(self,my_account,balance):\r\n",
        "    self.my_account=my_account\r\n",
        "    self.balance=balance\r\n",
        "  def deposit(self,amount):\r\n",
        "    self.balance=self.balance+amount\r\n",
        "  def withdrawn(self,amount):\r\n",
        "    if amount<=self.balance:\r\n",
        "      self.balance=self.balance-amount\r\n",
        "    else:\r\n",
        "      print('error')\r\n",
        "my=Account('Aman',5000)\r\n",
        "my.my_account\r\n",
        "my.balance\r\n",
        "my.deposit(500)\r\n",
        "my.withdrawn(5500)\r\n",
        "my.balance\r\n",
        "my"
      ],
      "execution_count": null,
      "outputs": [
        {
          "output_type": "execute_result",
          "data": {
            "text/plain": [
              "<__main__.Account at 0x7fdad213d9e8>"
            ]
          },
          "metadata": {
            "tags": []
          },
          "execution_count": 1
        }
      ]
    },
    {
      "cell_type": "markdown",
      "metadata": {
        "id": "PVo9qxYmCmKh"
      },
      "source": [
        "But, how are these attributes balance and account_name already set to 100, and “Rahul” respectively? We never did call the __init__ method, so why did the object gets these attribute? The answer here is that __init__ is a magic method(There are a lot of other magic methods which I would expand on in my next post on Magic Methods), which gets run whenever we create the object. So when we create myAccount , it automatically also runs the function __init__"
      ]
    },
    {
      "cell_type": "markdown",
      "metadata": {
        "id": "mgc6U3uaDGGo"
      },
      "source": [
        "So, what is this self?  The way I like to explain self is by calling the same function in an albeit different way. Below, I call the same function deposit belonging to the class account and provide it with the myAccount object and the amount. And now the function takes two arguments as it should."
      ]
    },
    {
      "cell_type": "code",
      "metadata": {
        "colab": {
          "base_uri": "https://localhost:8080/"
        },
        "id": "zIWt-1DeGWOU",
        "outputId": "6cd44d50-871e-4103-a281-cbc1eebaec3b"
      },
      "source": [
        "Account.deposit(my,1000)\r\n",
        "my.balance\r\n",
        "Account.__init__(my,\"Rai\",5000)\r\n",
        "my.balance\r\n"
      ],
      "execution_count": null,
      "outputs": [
        {
          "output_type": "execute_result",
          "data": {
            "text/plain": [
              "5000"
            ]
          },
          "metadata": {
            "tags": []
          },
          "execution_count": 7
        }
      ]
    },
    {
      "cell_type": "markdown",
      "metadata": {
        "id": "TH0NEzxYIELl"
      },
      "source": [
        "And our myAccount balance increases by 1000 as expected. So it is the same function we have called. Now, that could only happen if self and myAccount are exactly the same object. When I call myAccount.deposit(1000) Python provides \r\n",
        "\r\n",
        "*   List item\r\n",
        "*   List item\r\n",
        "\r\n",
        "the same object myAccount to the function call as the argument self. And that is why self.balance in the function definition really refers to myAccount.balance"
      ]
    },
    {
      "cell_type": "markdown",
      "metadata": {
        "id": "07WHYwvo3Vvz"
      },
      "source": [
        ""
      ]
    },
    {
      "cell_type": "code",
      "metadata": {
        "id": "RynT5Dbjd66T"
      },
      "source": [
        "class Shape:\r\n",
        "  def __init__(self,name):\r\n",
        "    self.name=name\r\n",
        "class Rectangle(Shape):\r\n",
        "  def __init__(self,name,length,breadth):\r\n",
        "    super().__init__(name)\r\n",
        "    self.length = length\r\n",
        "    self.breadth = breadth\r\n",
        "  def area(self):\r\n",
        "    return self.length*self.breadth\r\n",
        "class Square(Rectangle):\r\n",
        "  def __init__(self,name,side):\r\n",
        "    super().__init__(self,name,side,side)\r\n",
        "\r\n",
        "\r\n"
      ],
      "execution_count": null,
      "outputs": []
    },
    {
      "cell_type": "code",
      "metadata": {
        "colab": {
          "base_uri": "https://localhost:8080/"
        },
        "id": "GAHD9ogICLsc",
        "outputId": "f368985a-f659-4160-e40c-504f9fe9ccea"
      },
      "source": [
        "class Shape:\r\n",
        "    def __init__(self, name):\r\n",
        "        self.name = name\r\n",
        "\r\n",
        "    def area(self):\r\n",
        "        pass\r\n",
        "        \r\n",
        "    def getName(self):\r\n",
        "        return self.name\r\n",
        "        \r\n",
        "class Rectangle(Shape):\r\n",
        "    def __init__(self, name, length, breadth):\r\n",
        "        super().__init__(name)\r\n",
        "        self.length = length\r\n",
        "        self.breadth = breadth\r\n",
        "        \r\n",
        "    def area(self):\r\n",
        "        return self.length*self.breadth\r\n",
        "\r\n",
        "class Square(Rectangle):\r\n",
        "    def __init__(self, name, side):\r\n",
        "        super().__init__(name,side,side)\r\n",
        "        \r\n",
        "class Circle(Shape):\r\n",
        "    def __init__(self, name, radius):\r\n",
        "        super().__init__(name)\r\n",
        "        self.radius = radius\r\n",
        "\r\n",
        "    def area(self):\r\n",
        "        return pi*self.radius**2\r\n",
        "Rect=Rectangle('a',2,4)\r\n",
        "Rect.area()\r\n",
        "Sq=Square('b',2)\r\n",
        "Sq.area()\r\n",
        "sh=Shape('a')\r\n",
        "\r\n",
        "def getinfo(obj):\r\n",
        "  if not isinstance(obj,Shape):\r\n",
        "    raise TypeError('Object has type shape')\r\n",
        "  print('{} is my name and area is {}'.format(obj.name,obj.area()) )\r\n",
        "getinfo(sh)"
      ],
      "execution_count": null,
      "outputs": [
        {
          "output_type": "stream",
          "text": [
            "a is my name and area is None\n"
          ],
          "name": "stdout"
        }
      ]
    },
    {
      "cell_type": "code",
      "metadata": {
        "colab": {
          "base_uri": "https://localhost:8080/"
        },
        "id": "GzmOHzEVDXHZ",
        "outputId": "c6ee932b-b349-40b1-9ab8-11b127864007"
      },
      "source": [
        "class shape():\r\n",
        "  def __init__(self,name):\r\n",
        "    self.name=name\r\n",
        "  def area():\r\n",
        "    pass\r\n",
        "class rectangle(shape):\r\n",
        "  def __init__(self,name,length,breadth):\r\n",
        "    super().__init__(name)\r\n",
        "    self.length=length\r\n",
        "    self.breadth=breadth\r\n",
        "  def area(a):\r\n",
        "     a=self.length*self.breadth\r\n",
        "     return a\r\n",
        "rect=Rectangle('c',15,25)\r\n",
        "rect.area()\r\n"
      ],
      "execution_count": null,
      "outputs": [
        {
          "output_type": "execute_result",
          "data": {
            "text/plain": [
              "375"
            ]
          },
          "metadata": {
            "tags": []
          },
          "execution_count": 18
        }
      ]
    }
  ]
}